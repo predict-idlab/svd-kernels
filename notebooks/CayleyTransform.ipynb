{
 "cells": [
  {
   "cell_type": "code",
   "execution_count": 4,
   "metadata": {
    "collapsed": false,
    "jupyter": {
     "outputs_hidden": false
    },
    "pycharm": {
     "is_executing": false,
     "name": "#%%\n"
    }
   },
   "outputs": [],
   "source": [
    "import numpy as np\n",
    "import matplotlib.pyplot as plt\n",
    "\n",
    "from typing import Optional\n",
    "from timeit import default_timer as timer\n",
    "\n",
    "np.random.seed(42)  # Set seed\n",
    "plt.style.use('dark_background')  # Dark mode"
   ]
  },
  {
   "cell_type": "markdown",
   "metadata": {
    "pycharm": {
     "name": "#%% md\n"
    }
   },
   "source": [
    "## Cayley transform calculation\n",
    "\n",
    "#### Benchmark calculation speed for Cayley transform\n",
    "Cayley transform is calculated as follows.\n",
    "\n",
    "\\begin{align}\n",
    "\\phi_{\\nu}(X) = (I - \\nu X)^{-1} \\cdot (I + \\nu X) \\hspace{12pt} | \\hspace{6pt} X^T = -X\n",
    "\\end{align}\n",
    "\n",
    "The corresponding descent curve on the Stieffel manifold.\n",
    "\n",
    "\\begin{align}\n",
    "    X^n(\\nu) = \\phi_{\\nu}(W^n) \\cdot X^{n-1} \\hspace{12pt} | \\hspace{6pt} W^n = \\nabla X X^T - X \\nabla X^T\n",
    "\\end{align}\n",
    "\n",
    "The time complexity of this is $\\mathcal{O}(2 \\cdot N^3) \\rightarrow X\\in \\mathbb{R}^{N x R}$. <br>\n",
    "$\\mathcal{O}(N^3)$ from the matrix inversion and $\\mathcal{O}(N^3)$ from the matrix multiplication"
   ]
  },
  {
   "cell_type": "code",
   "execution_count": 2,
   "metadata": {
    "collapsed": false,
    "jupyter": {
     "outputs_hidden": false
    },
    "pycharm": {
     "is_executing": false,
     "name": "#%%\n"
    }
   },
   "outputs": [],
   "source": [
    "def phi(x, nu):\n",
    "    return np.linalg.inv(np.eye(size) - nu * x) @ (np.eye(size) + nu * x)"
   ]
  },
  {
   "cell_type": "markdown",
   "metadata": {
    "jupyter": {
     "outputs_hidden": false
    },
    "pycharm": {
     "name": "#%%\n"
    }
   },
   "source": [
    "Calculate with fixed point iteration. <br>\n",
    "\\begin{gather}\n",
    "(I - \\nu X) \\cdot \\phi_{\\nu}(X) = (I + \\nu X) \\\\\n",
    "\\phi_{\\nu}(X)  = (I + \\nu X) + \\nu X \\cdot \\phi_{\\nu}(X) \\\\\n",
    "\\phi_{\\nu}(X)  = I + \\nu X \\cdot (I + \\phi_{\\nu}(X))\n",
    "\\end{gather}\n",
    "\n",
    "Calculate iteratively \n",
    "1. $\\phi^0_{\\nu} \\leftarrow I + \\nu X$ <br>\n",
    "2. $\\phi_{\\nu}^k \\leftarrow I + \\nu X \\cdot (I + \\phi_{\\nu}^{k-1})$\n",
    "\n",
    "The time complexity of this is $\\mathcal{O}(s \\cdot N^3) \\rightarrow X\\in \\mathbb{R}^{N x R}$. <br>\n",
    "$s$ times $\\mathcal{O}(N^3)$ from the matrix multiplication in each iteration"
   ]
  },
  {
   "cell_type": "code",
   "execution_count": 63,
   "metadata": {},
   "outputs": [],
   "source": [
    "def fp_phi(X, nu, s):\n",
    "    Y = np.eye(size) + nu * X \n",
    "    for i in range(s):\n",
    "        Y = np.eye(size) + nu * X@(np.eye(size) + Y)\n",
    "    return Y"
   ]
  },
  {
   "cell_type": "markdown",
   "metadata": {},
   "source": [
    "Combined function"
   ]
  },
  {
   "cell_type": "code",
   "execution_count": 7,
   "metadata": {},
   "outputs": [],
   "source": [
    "def cayley(x, nu, s: Optional[int]):\n",
    "    size = x.shape[0]\n",
    "    y = np.eye(size) + nu * x\n",
    "    if s is None:\n",
    "        y = np.linalg.inv(np.eye(size) - nu * x) @ y\n",
    "    else:\n",
    "        assert s > -1 \n",
    "        for _ in range(s):\n",
    "            y = np.eye(size) + nu * x@(np.eye(size) + y)"
   ]
  },
  {
   "cell_type": "markdown",
   "metadata": {},
   "source": [
    "Woodbury-Morrison formula\n",
    "\\begin{gather}\n",
    "\\phi_{\\nu}(X) = I + \\chi_{\\nu}(X) \\\\\n",
    "\\chi_{\\nu}(X) = -\\nu A \\cdot (I + \\frac{\\nu}{2}B^TA)^{-1}B^T \\\\\n",
    "A = [\\nabla X, X] \\\\\n",
    "B = [X, -\\nabla X]\n",
    "\\end{gather}"
   ]
  },
  {
   "cell_type": "code",
   "execution_count": 73,
   "metadata": {},
   "outputs": [],
   "source": [
    "def chi(X, nu):\n",
    "    \"\"\"Calculate additive part of  phi = I + chi given a variable and it's gradient.\"\"\"\n",
    "    a = tf.concat([grad, var], axis=1)\n",
    "    b = tf.concat([var, -grad], axis=1)\n",
    "    skew = tf.transpose(b) @ a\n",
    "    c = tf.eye(skew.shape[0]) + nu / 2 * skew\n",
    "    skew_inv = tf.linalg.inv(c, adjoint=False)\n",
    "    return -nu * a @ skew_inv @ tf.transpose(b)"
   ]
  },
  {
   "cell_type": "markdown",
   "metadata": {
    "jupyter": {
     "outputs_hidden": false
    },
    "pycharm": {
     "name": "#%%\n"
    }
   },
   "source": [
    "Fixed point iteration <br>\n",
    "\\begin{align}\n",
    "(I - \\nu X) \\cdot (I + \\chi_{\\nu}(X)) = (I + \\nu X) \\\\\n",
    "I + \\chi_{\\nu}(X) = (I + \\nu X) + \\nu X \\cdot (I + \\chi_{\\nu}(X)) \\\\\n",
    "\\chi_{\\nu}(X)  = I + \\nu X \\cdot (2I + \\chi_{\\nu}(X))\n",
    "\\end{align}\n",
    "\n",
    "Calculate iteratively \n",
    "1. $\\chi^0_{\\nu} \\leftarrow \\nu X$ <br>\n",
    "2. $\\chi_{\\nu}^k \\leftarrow I + \\nu X \\cdot (2I + \\chi_{\\nu}^{k-1})$"
   ]
  },
  {
   "cell_type": "code",
   "execution_count": 74,
   "metadata": {},
   "outputs": [],
   "source": [
    "def fp_chi(X, nu, s):\n",
    "    Y = nu * X\n",
    "    for i in range(s):\n",
    "        Y = np.eye(size) + nu * X@(2*np.eye(size) + Y)\n",
    "    return Y"
   ]
  },
  {
   "cell_type": "code",
   "execution_count": 75,
   "metadata": {
    "collapsed": false,
    "jupyter": {
     "outputs_hidden": false
    },
    "pycharm": {
     "is_executing": false,
     "name": "#%%\n"
    }
   },
   "outputs": [
    {
     "data": {
      "text/plain": [
       "3.5108338777944003e-16"
      ]
     },
     "execution_count": 75,
     "metadata": {},
     "output_type": "execute_result"
    }
   ],
   "source": [
    "# Initialize matrices\n",
    "size = 2**2\n",
    "nu = 10e-4\n",
    "\n",
    "# test function\n",
    "A = np.random.random((size, size))\n",
    "X = A.T - A\n",
    "Y = phi(X, nu)\n",
    "kappa(Y)"
   ]
  },
  {
   "cell_type": "code",
   "execution_count": 76,
   "metadata": {
    "collapsed": false,
    "jupyter": {
     "outputs_hidden": false
    },
    "pycharm": {
     "is_executing": false,
     "name": "#%% \n"
    }
   },
   "outputs": [],
   "source": [
    "# Depth of testing\n",
    "depth = 11\n",
    "# Sizes to test\n",
    "sizes = [2**i for i in range(depth)]\n",
    "# time calculation\n",
    "times = 100"
   ]
  },
  {
   "cell_type": "code",
   "execution_count": 77,
   "metadata": {
    "collapsed": false,
    "jupyter": {
     "outputs_hidden": false
    },
    "pycharm": {
     "is_executing": false,
     "name": "#%% \n"
    }
   },
   "outputs": [],
   "source": [
    "timings = [[None] * times for i in range(depth)]\n",
    "\n",
    "for i, size in enumerate(sizes):\n",
    "    A = np.random.random((size, size))\n",
    "    X = A.T - A\n",
    "    for j in range(times):\n",
    "        start = timer()\n",
    "        Y = phi(X, nu)\n",
    "        end = timer()\n",
    "        timings[i][j] = end - start"
   ]
  },
  {
   "cell_type": "code",
   "execution_count": 78,
   "metadata": {
    "collapsed": false,
    "jupyter": {
     "outputs_hidden": false
    },
    "pycharm": {
     "is_executing": false,
     "name": "#%%\n"
    }
   },
   "outputs": [
    {
     "data": {
      "image/png": "[encoded data removed]",
      "text/plain": [
       "<Figure size 432x288 with 1 Axes>"
      ]
     },
     "metadata": {},
     "output_type": "display_data"
    }
   ],
   "source": [
    "plt.bar(x=range(depth), height=[np.mean(t) for t in timings], yerr=[np.std(t) for t in timings])\n",
    "plt.yscale('log')\n",
    "plt.show()"
   ]
  },
  {
   "cell_type": "code",
   "execution_count": 79,
   "metadata": {},
   "outputs": [],
   "source": [
    "s = [i + 1 for i in range(10)]\n",
    "y = [fp_phi(X, nu, i) for i in s]"
   ]
  },
  {
   "cell_type": "code",
   "execution_count": 80,
   "metadata": {},
   "outputs": [
    {
     "data": {
      "image/png": "[encoded data removed]",
      "text/plain": [
       "<Figure size 432x288 with 1 Axes>"
      ]
     },
     "metadata": {},
     "output_type": "display_data"
    }
   ],
   "source": [
    "plt.plot(s, [np.linalg.norm(Y - Y_) for Y_ in y])\n",
    "plt.yscale('log')\n",
    "plt.show()"
   ]
  },
  {
   "cell_type": "code",
   "execution_count": 81,
   "metadata": {},
   "outputs": [],
   "source": [
    "# time calculation\n",
    "timings_fp = [[None] * times for i in range(depth)]\n",
    "\n",
    "for i, size in enumerate(sizes):\n",
    "    A = np.random.random((size, size))\n",
    "    X = A.T - A\n",
    "    for j in range(times):\n",
    "        start = timer()\n",
    "        Y = fp_phi(X, nu, 4)\n",
    "        end = timer()\n",
    "        timings_fp[i][j] = end - start"
   ]
  },
  {
   "cell_type": "code",
   "execution_count": 82,
   "metadata": {},
   "outputs": [
    {
     "data": {
      "image/png": "[encoded data removed]",
      "text/plain": [
       "<Figure size 432x288 with 1 Axes>"
      ]
     },
     "metadata": {},
     "output_type": "display_data"
    }
   ],
   "source": [
    "plt.bar(x=np.arange(depth) - 0.25, width=0.25, height=[np.mean(t) for t in timings], yerr=[np.std(t) for t in timings], color='green')\n",
    "plt.bar(x=np.arange(depth), width=0.25, height=[np.mean(t) for t in timings_fp], yerr=[np.std(t) for t in timings_fp], color='red')\n",
    "plt.yscale('log')\n",
    "plt.show()"
   ]
  },
  {
   "cell_type": "code",
   "execution_count": null,
   "metadata": {},
   "outputs": [],
   "source": []
  }
 ],
 "metadata": {
  "kernelspec": {
   "display_name": "Python 3",
   "language": "python",
   "name": "python3"
  },
  "language_info": {
   "codemirror_mode": {
    "name": "ipython",
    "version": 3
   },
   "file_extension": ".py",
   "mimetype": "text/x-python",
   "name": "python",
   "nbconvert_exporter": "python",
   "pygments_lexer": "ipython3",
   "version": "3.7.6"
  },
  "pycharm": {
   "stem_cell": {
    "cell_type": "raw",
    "metadata": {
     "collapsed": false
    },
    "source": []
   }
  }
 },
 "nbformat": 4,
 "nbformat_minor": 4
}
