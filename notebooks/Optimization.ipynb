{
 "cells": [
  {
   "cell_type": "code",
   "execution_count": 16,
   "outputs": [],
   "source": [
    "import numpy as np\n",
    "import matplotlib.pyplot as plt\n",
    "\n",
    "from timeit import default_timer as timer\n",
    "\n",
    "np.random.seed(42)"
   ],
   "metadata": {
    "collapsed": false,
    "pycharm": {
     "name": "#%%\n",
     "is_executing": false
    }
   }
  },
  {
   "cell_type": "markdown",
   "metadata": {
    "collapsed": true,
    "pycharm": {
     "name": "#%% md\n"
    }
   },
   "source": [
    "### Optimization\n",
    "\n",
    "Benchmark calculation speed for Cayley transform"
   ]
  },
  {
   "cell_type": "markdown",
   "source": [
    "Cayley transform <br>\n",
    "$\\phi_{\\nu}(X) = (I - \\nu X)^{-1} \\cdot (I + \\nu X) \\hspace{12pt} | \\hspace{6pt} X^T = -X$"
   ],
   "metadata": {
    "collapsed": false,
    "pycharm": {
     "name": "#%% md\n"
    }
   }
  },
  {
   "cell_type": "code",
   "execution_count": 13,
   "outputs": [],
   "source": [
    "def phi(x, nu):\n",
    "    return np.linalg.inv(np.eye(size) - nu * x) @ (np.eye(size) + nu * x)"
   ],
   "metadata": {
    "collapsed": false,
    "pycharm": {
     "name": "#%%\n",
     "is_executing": false
    }
   }
  },
  {
   "cell_type": "markdown",
   "source": [
    "Measure for orthogonality <br>\n",
    "$\\kappa(x) = || I - x \\cdot x^T||$"
   ],
   "metadata": {
    "collapsed": false,
    "pycharm": {
     "name": "#%% md\n"
    }
   }
  },
  {
   "cell_type": "code",
   "execution_count": 14,
   "outputs": [],
   "source": [
    "def kappa(x):\n",
    "    return np.linalg.norm(np.eye(x.shape[0]) - x@x.T)"
   ],
   "metadata": {
    "collapsed": false,
    "pycharm": {
     "name": "#%%\n",
     "is_executing": false
    }
   }
  },
  {
   "cell_type": "code",
   "execution_count": 17,
   "outputs": [],
   "source": [
    "# Initialize matrices\n",
    "size = 2**2\n",
    "nu = 10e-4\n",
    "\n",
    "# test function\n",
    "A = np.random.random((size, size))\n",
    "X = A.T - A\n",
    "Y = phi(X, nu)"
   ],
   "metadata": {
    "collapsed": false,
    "pycharm": {
     "name": "#%%\n",
     "is_executing": false
    }
   }
  },
  {
   "cell_type": "code",
   "execution_count": 28,
   "outputs": [],
   "source": [
    "# Depth of testing\n",
    "depth = 8\n",
    "# Sizes to test\n",
    "sizes = [2**i for i in range(depth)]\n",
    "# time calculation\n",
    "times = 1000\n",
    "timings = [[None] * times for i in range(depth)]\n",
    "\n",
    "for i, size in enumerate(sizes):\n",
    "    A = np.random.random((size, size))\n",
    "    X = A.T - A\n",
    "    for j in range(times):\n",
    "        start = timer()\n",
    "        Y = phi(X, nu)\n",
    "        end = timer()\n",
    "        timings[i][j] = end - start"
   ],
   "metadata": {
    "collapsed": false,
    "pycharm": {
     "name": "#%% \n",
     "is_executing": false
    }
   }
  },
  {
   "cell_type": "code",
   "execution_count": 29,
   "outputs": [
    {
     "data": {
      "text/plain": "<Figure size 1152x648 with 1 Axes>",
      "image/png": "[encoded data removed]"
     },
     "metadata": {
      "needs_background": "light"
     },
     "output_type": "display_data"
    }
   ],
   "source": [
    "plt.figure(figsize=(16, 9))\n",
    "plt.bar(x=range(depth), height=[np.mean(t) for t in timings], yerr=[np.std(t) for t in timings])\n",
    "plt.show()"
   ],
   "metadata": {
    "collapsed": false,
    "pycharm": {
     "name": "#%%\n",
     "is_executing": false
    }
   }
  },
  {
   "cell_type": "code",
   "execution_count": null,
   "outputs": [],
   "source": [
    "\n"
   ],
   "metadata": {
    "collapsed": false,
    "pycharm": {
     "name": "#%%\n"
    }
   }
  }
 ],
 "metadata": {
  "kernelspec": {
   "display_name": "Python 3",
   "language": "python",
   "name": "python3"
  },
  "language_info": {
   "codemirror_mode": {
    "name": "ipython",
    "version": 2
   },
   "file_extension": ".py",
   "mimetype": "text/x-python",
   "name": "python",
   "nbconvert_exporter": "python",
   "pygments_lexer": "ipython2",
   "version": "2.7.6"
  },
  "pycharm": {
   "stem_cell": {
    "cell_type": "raw",
    "source": [],
    "metadata": {
     "collapsed": false
    }
   }
  }
 },
 "nbformat": 4,
 "nbformat_minor": 0
}