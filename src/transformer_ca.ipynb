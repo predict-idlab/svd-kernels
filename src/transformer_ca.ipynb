{
 "cells": [
  {
   "cell_type": "code",
   "execution_count": 1,
   "metadata": {},
   "outputs": [],
   "source": [
    "import tensorflow as tf\n",
    "\n",
    "import time\n",
    "import numpy as np\n",
    "import matplotlib.pyplot as plt\n",
    "\n",
    "from src.initializers import SingularValueInitializer\n",
    "from typing import *"
   ]
  },
  {
   "cell_type": "code",
   "execution_count": 2,
   "metadata": {},
   "outputs": [],
   "source": [
    "class CASVDDenseAdd(tf.keras.layers.Layer):\n",
    "    \"\"\"SVD based densely connected layer.\"\"\"\n",
    "    def __init__(self, units: int, rank: int, activation: str = 'relu', use_bias: bool = True):\n",
    "        super(CASVDDenseAdd, self).__init__()\n",
    "        # initialise parameters\n",
    "        self.units = units\n",
    "        self.rank = rank\n",
    "        self.activation = tf.keras.activations.get(activation)\n",
    "        self.use_bias = use_bias\n",
    "        \n",
    "        # initialise variables\n",
    "        self.u = None\n",
    "        self.s = None\n",
    "        self.v = None\n",
    "        self.w = None\n",
    "        self.bias = None\n",
    "\n",
    "    def build(self, input_shapes: List[tf.TensorShape]):\n",
    "        # unpack input shapes\n",
    "        assert len(input_shapes) == 2\n",
    "        input_shape, context_shape = input_shapes\n",
    "        # define shapes\n",
    "        u_shape = tf.TensorShape([input_shape[-1], self.rank])\n",
    "        s_shape = tf.TensorShape([self.rank])\n",
    "        v_shape = tf.TensorShape([self.units, self.rank])\n",
    "        w_shape = tf.TensorShape([context_shape[-1], self.rank])\n",
    "        bias_shape = tf.TensorShape([self.units])\n",
    "        # define initializers\n",
    "        o_initializer = tf.keras.initializers.Orthogonal()\n",
    "        s_initializer = SingularValueInitializer(input_shape[-1], self.units)\n",
    "        z_initializer = tf.keras.initializers.get('Zeros')\n",
    "        # define variables\n",
    "        self.u = self.add_weight(\"U\", shape=u_shape, dtype=tf.float32, initializer=o_initializer)\n",
    "        self.s = self.add_weight(\"S\", shape=s_shape, dtype=tf.float32, initializer=s_initializer)\n",
    "        self.v = self.add_weight(\"V\", shape=v_shape, dtype=tf.float32, initializer=o_initializer)\n",
    "        self.w = self.add_weight(\"W\", shape=w_shape, dtype=tf.float32, initializer=o_initializer)\n",
    "        if self.use_bias:\n",
    "            self.bias = self.add_weight(\"bias\", shape=bias_shape, dtype=tf.float32, initializer=z_initializer)\n",
    "\n",
    "    def call(self, inputs: List[tf.Tensor]):\n",
    "        assert len(inputs) == 2\n",
    "        data, context = inputs\n",
    "        s = tf.linalg.diag(self.s + context@self.w)\n",
    "        temp = tf.einsum('nr, brr->bnr', self.u, s)\n",
    "        kernel = tf.einsum('bnr,mr->bnm', temp, self.v)\n",
    "        outputs = tf.einsum('bn, bnm->bm', data, kernel) + self.bias\n",
    "        if self.use_bias:\n",
    "            outputs += self.bias\n",
    "        # activate\n",
    "        return self.activation(outputs)\n",
    "    \n",
    "\n",
    "def chi(var, grad, nu):\n",
    "    \"\"\"Calculate additive part of  phi = I + chi given a variable and it's gradient.\"\"\"\n",
    "    a = tf.concat([grad, var], axis=1)\n",
    "    b = tf.concat([var, -grad], axis=1)\n",
    "    skew = tf.transpose(b)@a\n",
    "    c = tf.eye(skew.shape[0]) + nu/2 * skew\n",
    "    skew_inv = tf.linalg.inv(c)\n",
    "    return -nu * a @skew_inv@tf.transpose(b)\n",
    "\n",
    "def batch_transpose(a):\n",
    "    return tf.transpose(a, [0, 2, 1])\n",
    "\n",
    "def batch_mul(a, b, transpose_a=False, transpose_b=False):\n",
    "    if transpose_a:\n",
    "        a = batch_transpose(a)\n",
    "    if transpose_b:\n",
    "        b = batch_transpose(b)\n",
    "    return tf.einsum('bik,bkj->bij', a, b)\n",
    "\n",
    "def batch_assembled_gradient(u, s, v, du, ds, dv, eps = 10e-8):\n",
    "    # Diagonal matrices for singular values\n",
    "    s_matrix = tf.linalg.diag(s)\n",
    "    ds_matrix = tf.linalg.diag(ds)\n",
    "    # Calculate D\n",
    "    s_inv = tf.linalg.diag((s + eps)**(-1))\n",
    "    d = du@s_inv\n",
    "    # Calculate A\n",
    "    i = tf.eye(ds_matrix.shape[-1], batch_shape=[s.shape[0]])\n",
    "    a = tf.where(i == 1., ds_matrix - tf.transpose(u)@d, 0.0)\n",
    "    # Calculate K\n",
    "    i_skew = tf.ones_like(s_matrix) - i\n",
    "    k = tf.where(i_skew == 0.0, 0.0,  (tf.expand_dims(s ** 2, axis=-1) - tf.expand_dims(s, axis=-2) ** 2 + eps) ** (-1))\n",
    "    # Calculate B\n",
    "    b = k * (tf.transpose(v)@dv - batch_mul(d, u@s_matrix, True, False))\n",
    "    # Calculate Q\n",
    "    q = d + u@(a + batch_mul(s_matrix, batch_transpose(b) + b, True, False))\n",
    "    # Return dw\n",
    "    return q@tf.transpose(v)\n",
    "\n",
    "def loss(model, inputs, targets):\n",
    "    outputs = model(inputs)\n",
    "    return tf.keras.losses.sparse_categorical_crossentropy(targets, outputs)\n",
    "\n",
    "def grad(model, inputs, targets):\n",
    "    with tf.GradientTape() as tape:\n",
    "        loss_value = loss(model, inputs, targets)\n",
    "    return loss_value, tape.gradient(loss_value, model.trainable_variables)"
   ]
  },
  {
   "cell_type": "markdown",
   "metadata": {
    "id": "nBQuibYA4n0n"
   },
   "source": [
    "## Positional encoding\n",
    "\n",
    "Since this model doesn't contain any recurrence or convolution, positional encoding is added to give the model some information about the relative position of the words in the sentence. \n",
    "\n",
    "The positional encoding vector is added to the embedding vector. Embeddings represent a token in a d-dimensional space where tokens with similar meaning will be closer to each other. But the embeddings do not encode the relative position of words in a sentence. So after adding the positional encoding, words will be closer to each other based on the *similarity of their meaning and their position in the sentence*, in the d-dimensional space.\n",
    "\n",
    "See the notebook on [positional encoding](https://github.com/tensorflow/examples/blob/master/community/en/position_encoding.ipynb) to learn more about it. The formula for calculating the positional encoding is as follows:\n",
    "\n",
    "$$\\Large{PE_{(pos, 2i)} = sin(pos / 10000^{2i / d_{model}})} $$\n",
    "$$\\Large{PE_{(pos, 2i+1)} = cos(pos / 10000^{2i / d_{model}})} $$"
   ]
  },
  {
   "cell_type": "code",
   "execution_count": 114,
   "metadata": {
    "id": "WhIOZjMNKujn"
   },
   "outputs": [],
   "source": [
    "def get_angles(pos, i, d_model):\n",
    "    angle_rates = 1 / np.power(10000, (2 * (i//2)) / np.float32(d_model))\n",
    "    return pos * angle_rates"
   ]
  },
  {
   "cell_type": "code",
   "execution_count": 115,
   "metadata": {
    "id": "1Rz82wEs5biZ"
   },
   "outputs": [],
   "source": [
    "def positional_encoding(position, d_model):\n",
    "    angle_rads = get_angles(np.arange(position)[:, np.newaxis],\n",
    "                          np.arange(d_model)[np.newaxis, :],\n",
    "                          d_model)\n",
    "\n",
    "    # apply sin to even indices in the array; 2i\n",
    "    angle_rads[:, 0::2] = np.sin(angle_rads[:, 0::2])\n",
    "\n",
    "    # apply cos to odd indices in the array; 2i+1\n",
    "    angle_rads[:, 1::2] = np.cos(angle_rads[:, 1::2])\n",
    "\n",
    "    pos_encoding = angle_rads[np.newaxis, ...]\n",
    "\n",
    "    return tf.cast(pos_encoding, dtype=tf.float32)"
   ]
  },
  {
   "cell_type": "code",
   "execution_count": 116,
   "metadata": {
    "id": "1kLCla68EloE"
   },
   "outputs": [
    {
     "name": "stdout",
     "output_type": "stream",
     "text": [
      "(1, 50, 512)\n"
     ]
    },
    {
     "data": {
      "image/png": "[encoded data removed]",
      "text/plain": [
       "<Figure size 432x288 with 2 Axes>"
      ]
     },
     "metadata": {},
     "output_type": "display_data"
    }
   ],
   "source": [
    "pos_encoding = positional_encoding(50, 512)\n",
    "print (pos_encoding.shape)\n",
    "\n",
    "plt.style.use('dark_background')\n",
    "plt.pcolormesh(pos_encoding[0], cmap='RdBu')\n",
    "plt.xlabel('Depth')\n",
    "plt.xlim((0, 512))\n",
    "plt.ylabel('Position')\n",
    "plt.colorbar()\n",
    "plt.show()"
   ]
  },
  {
   "cell_type": "markdown",
   "metadata": {
    "id": "a_b4ou4TYqUN"
   },
   "source": [
    "## Masking"
   ]
  },
  {
   "cell_type": "markdown",
   "metadata": {
    "id": "s42Uydjkv0hF"
   },
   "source": [
    "Mask all the pad tokens in the batch of sequence. It ensures that the model does not treat padding as the input. The mask indicates where pad value `0` is present: it outputs a `1` at those locations, and a `0` otherwise."
   ]
  },
  {
   "cell_type": "code",
   "execution_count": 117,
   "metadata": {
    "id": "U2i8-e1s8ti9"
   },
   "outputs": [],
   "source": [
    "def create_padding_mask(seq):\n",
    "    seq = tf.cast(tf.math.equal(seq, 0), tf.float32)\n",
    "\n",
    "    # add extra dimensions to add the padding\n",
    "    # to the attention logits.\n",
    "    return seq[:, tf.newaxis, tf.newaxis, :]  # (batch_size, 1, 1, seq_len)"
   ]
  },
  {
   "cell_type": "code",
   "execution_count": 118,
   "metadata": {
    "id": "A7BYeBCNvi7n"
   },
   "outputs": [
    {
     "data": {
      "text/plain": [
       "<tf.Tensor: shape=(3, 1, 1, 5), dtype=float32, numpy=\n",
       "array([[[[0., 0., 1., 1., 0.]]],\n",
       "\n",
       "\n",
       "       [[[0., 0., 0., 1., 1.]]],\n",
       "\n",
       "\n",
       "       [[[1., 1., 1., 0., 0.]]]], dtype=float32)>"
      ]
     },
     "execution_count": 118,
     "metadata": {},
     "output_type": "execute_result"
    }
   ],
   "source": [
    "x = tf.constant([[7, 6, 0, 0, 1], [1, 2, 3, 0, 0], [0, 0, 0, 4, 5]])\n",
    "create_padding_mask(x)"
   ]
  },
  {
   "cell_type": "markdown",
   "metadata": {
    "id": "Z0hzukDBgVom"
   },
   "source": [
    "The look-ahead mask is used to mask the future tokens in a sequence. In other words, the mask indicates which entries should not be used.\n",
    "\n",
    "This means that to predict the third word, only the first and second word will be used. Similarly to predict the fourth word, only the first, second and the third word will be used and so on."
   ]
  },
  {
   "cell_type": "code",
   "execution_count": 119,
   "metadata": {
    "id": "dVxS8OPI9uI0"
   },
   "outputs": [],
   "source": [
    "def create_look_ahead_mask(size):\n",
    "    mask = 1 - tf.linalg.band_part(tf.ones((size, size)), -1, 0)\n",
    "    return mask  # (seq_len, seq_len)"
   ]
  },
  {
   "cell_type": "code",
   "execution_count": 120,
   "metadata": {
    "id": "yxKGuXxaBeeE"
   },
   "outputs": [
    {
     "data": {
      "text/plain": [
       "<tf.Tensor: shape=(3, 3), dtype=float32, numpy=\n",
       "array([[0., 1., 1.],\n",
       "       [0., 0., 1.],\n",
       "       [0., 0., 0.]], dtype=float32)>"
      ]
     },
     "execution_count": 120,
     "metadata": {},
     "output_type": "execute_result"
    }
   ],
   "source": [
    "x = tf.random.uniform((1, 3))\n",
    "temp = create_look_ahead_mask(x.shape[1])\n",
    "temp"
   ]
  },
  {
   "cell_type": "markdown",
   "metadata": {
    "id": "xluDl5cXYy4y"
   },
   "source": [
    "## Scaled dot product attention"
   ]
  },
  {
   "cell_type": "code",
   "execution_count": 121,
   "metadata": {
    "id": "LazzUq3bJ5SH"
   },
   "outputs": [],
   "source": [
    "def scaled_dot_product_attention(q, k, v, mask):\n",
    "    \"\"\"Calculate the attention weights.\n",
    "    q, k, v must have matching leading dimensions.\n",
    "    k, v must have matching penultimate dimension, i.e.: seq_len_k = seq_len_v.\n",
    "    The mask has different shapes depending on its type(padding or look ahead) \n",
    "    but it must be broadcastable for addition.\n",
    "\n",
    "    Args:\n",
    "    q: query shape == (..., seq_len_q, depth)\n",
    "    k: key shape == (..., seq_len_k, depth)\n",
    "    v: value shape == (..., seq_len_v, depth_v)\n",
    "    mask: Float tensor with shape broadcastable \n",
    "          to (..., seq_len_q, seq_len_k). Defaults to None.\n",
    "\n",
    "    Returns:\n",
    "    output, attention_weights\n",
    "    \"\"\"\n",
    "\n",
    "    matmul_qk = tf.matmul(q, k, transpose_b=True)  # (..., seq_len_q, seq_len_k)\n",
    "\n",
    "    # scale matmul_qk\n",
    "    dk = tf.cast(tf.shape(k)[-1], tf.float32)\n",
    "    scaled_attention_logits = matmul_qk / tf.math.sqrt(dk)\n",
    "\n",
    "    # add the mask to the scaled tensor.\n",
    "    if mask is not None:\n",
    "        scaled_attention_logits += (mask * -1e9)  \n",
    "\n",
    "    # softmax is normalized on the last axis (seq_len_k) so that the scores\n",
    "    # add up to 1.\n",
    "    attention_weights = tf.nn.softmax(scaled_attention_logits, axis=-1)  # (..., seq_len_q, seq_len_k)\n",
    "\n",
    "    output = tf.matmul(attention_weights, v)  # (..., seq_len_q, depth_v)\n",
    "\n",
    "    return output, attention_weights"
   ]
  },
  {
   "cell_type": "markdown",
   "metadata": {
    "id": "FiqETnhCkoXh"
   },
   "source": [
    "As the softmax normalization is done on K, its values decide the amount of importance given to Q.\n",
    "\n",
    "The output represents the multiplication of the attention weights and the V (value) vector. This ensures that the words you want to focus on are kept as-is and the irrelevant words are flushed out."
   ]
  },
  {
   "cell_type": "code",
   "execution_count": 122,
   "metadata": {
    "id": "n90YjClyInFy"
   },
   "outputs": [],
   "source": [
    "def print_out(q, k, v):\n",
    "    temp_out, temp_attn = scaled_dot_product_attention(\n",
    "      q, k, v, None)\n",
    "    print ('Attention weights are:')\n",
    "    print (temp_attn)\n",
    "    print ('Output is:')\n",
    "    print (temp_out)"
   ]
  },
  {
   "cell_type": "code",
   "execution_count": 123,
   "metadata": {
    "id": "yAzUAf2DPlNt"
   },
   "outputs": [
    {
     "name": "stdout",
     "output_type": "stream",
     "text": [
      "Attention weights are:\n",
      "tf.Tensor([[0. 1. 0. 0.]], shape=(1, 4), dtype=float32)\n",
      "Output is:\n",
      "tf.Tensor([[10.  0.]], shape=(1, 2), dtype=float32)\n"
     ]
    }
   ],
   "source": [
    "np.set_printoptions(suppress=True)\n",
    "\n",
    "temp_k = tf.constant([[10,0,0],\n",
    "                      [0,10,0],\n",
    "                      [0,0,10],\n",
    "                      [0,0,10]], dtype=tf.float32)  # (4, 3)\n",
    "\n",
    "temp_v = tf.constant([[   1,0],\n",
    "                      [  10,0],\n",
    "                      [ 100,5],\n",
    "                      [1000,6]], dtype=tf.float32)  # (4, 2)\n",
    "\n",
    "# This `query` aligns with the second `key`,\n",
    "# so the second `value` is returned.\n",
    "temp_q = tf.constant([[0, 10, 0]], dtype=tf.float32)  # (1, 3)\n",
    "print_out(temp_q, temp_k, temp_v)"
   ]
  },
  {
   "cell_type": "code",
   "execution_count": 124,
   "metadata": {
    "id": "zg6k-fGhgXra"
   },
   "outputs": [
    {
     "name": "stdout",
     "output_type": "stream",
     "text": [
      "Attention weights are:\n",
      "tf.Tensor([[0.  0.  0.5 0.5]], shape=(1, 4), dtype=float32)\n",
      "Output is:\n",
      "tf.Tensor([[550.    5.5]], shape=(1, 2), dtype=float32)\n"
     ]
    }
   ],
   "source": [
    "# This query aligns with a repeated key (third and fourth), \n",
    "# so all associated values get averaged.\n",
    "temp_q = tf.constant([[0, 0, 10]], dtype=tf.float32)  # (1, 3)\n",
    "print_out(temp_q, temp_k, temp_v)"
   ]
  },
  {
   "cell_type": "code",
   "execution_count": 125,
   "metadata": {
    "id": "UAq3YOzUgXhb"
   },
   "outputs": [
    {
     "name": "stdout",
     "output_type": "stream",
     "text": [
      "Attention weights are:\n",
      "tf.Tensor([[0.5 0.5 0.  0. ]], shape=(1, 4), dtype=float32)\n",
      "Output is:\n",
      "tf.Tensor([[5.5 0. ]], shape=(1, 2), dtype=float32)\n"
     ]
    }
   ],
   "source": [
    "# This query aligns equally with the first and second key, \n",
    "# so their values get averaged.\n",
    "temp_q = tf.constant([[10, 10, 0]], dtype=tf.float32)  # (1, 3)\n",
    "print_out(temp_q, temp_k, temp_v)"
   ]
  },
  {
   "cell_type": "markdown",
   "metadata": {
    "id": "aOz-4_XIhaTP"
   },
   "source": [
    "Pass all the queries together."
   ]
  },
  {
   "cell_type": "code",
   "execution_count": 126,
   "metadata": {
    "id": "6dlU8Tm-hYrF"
   },
   "outputs": [
    {
     "name": "stdout",
     "output_type": "stream",
     "text": [
      "Attention weights are:\n",
      "tf.Tensor(\n",
      "[[0.  0.  0.5 0.5]\n",
      " [0.  1.  0.  0. ]\n",
      " [0.5 0.5 0.  0. ]], shape=(3, 4), dtype=float32)\n",
      "Output is:\n",
      "tf.Tensor(\n",
      "[[550.    5.5]\n",
      " [ 10.    0. ]\n",
      " [  5.5   0. ]], shape=(3, 2), dtype=float32)\n"
     ]
    }
   ],
   "source": [
    "temp_q = tf.constant([[0, 0, 10], [0, 10, 0], [10, 10, 0]], dtype=tf.float32)  # (3, 3)\n",
    "print_out(temp_q, temp_k, temp_v)"
   ]
  },
  {
   "cell_type": "markdown",
   "metadata": {
    "id": "kmzGPEy64qmA"
   },
   "source": [
    "## Multi-head attention"
   ]
  },
  {
   "cell_type": "markdown",
   "metadata": {
    "id": "JPmbr6F1C-v_"
   },
   "source": [
    "Each multi-head attention block gets three inputs; Q (query), K (key), V (value). These are put through linear (Dense) layers and split up into multiple heads. \n",
    "\n",
    "The `scaled_dot_product_attention` defined above is applied to each head (broadcasted for efficiency). An appropriate mask must be used in the attention step.  The attention output for each head is then concatenated (using `tf.transpose`, and `tf.reshape`) and put through a final `Dense` layer.\n",
    "\n",
    "Instead of one single attention head, Q, K, and V are split into multiple heads because it allows the model to jointly attend to information at different positions from different representational spaces. After the split each head has a reduced dimensionality, so the total computation cost is the same as a single head attention with full dimensionality."
   ]
  },
  {
   "cell_type": "code",
   "execution_count": 220,
   "metadata": {
    "id": "BSV3PPKsYecw"
   },
   "outputs": [],
   "source": [
    "class CAMultiHeadAttention(tf.keras.models.Model):\n",
    "    def __init__(self, d_model, num_heads):\n",
    "        super(CAMultiHeadAttention, self).__init__()\n",
    "        self.num_heads = num_heads\n",
    "        self.d_model = d_model\n",
    "\n",
    "        assert d_model % self.num_heads == 0\n",
    "\n",
    "        self.depth = d_model // self.num_heads\n",
    "        rank = int(d_model/2)\n",
    "        \n",
    "        self.wq = CASVDDenseAdd(d_model, rank)\n",
    "        self.wk = CASVDDenseAdd(d_model, rank)\n",
    "        self.wv = CASVDDenseAdd(d_model, rank)\n",
    "\n",
    "        self.dense = CASVDDenseAdd(d_model, rank)\n",
    "\n",
    "    def split_heads(self, x, batch_size):\n",
    "        \"\"\"Split the last dimension into (num_heads, depth).\n",
    "        Transpose the result such that the shape is (batch_size, num_heads, seq_len, depth)\n",
    "        \"\"\"\n",
    "        x = tf.reshape(x, (batch_size, -1, self.num_heads, self.depth))\n",
    "        return tf.transpose(x, perm=[0, 2, 1, 3])\n",
    "\n",
    "    def call(self, v, k, q, c_v, c_k, c_q, mask):\n",
    "        batch_size = tf.shape(q)[0]\n",
    "        \n",
    "        seq_len_q = tf.shape(q)[1]\n",
    "        seq_len_k = tf.shape(k)[1]\n",
    "        seq_len_v = tf.shape(v)[1]\n",
    "        \n",
    "        q = tf.reshape(q, (batch_size * seq_len_q, -1))\n",
    "        k = tf.reshape(k, (batch_size * seq_len_k, -1))\n",
    "        v = tf.reshape(v, (batch_size * seq_len_v, -1))\n",
    "        \n",
    "        c_q = tf.reshape(c_q, (batch_size * seq_len_q, -1))\n",
    "        c_k = tf.reshape(c_k, (batch_size * seq_len_k, -1))\n",
    "        c_v = tf.reshape(c_v, (batch_size * seq_len_v, -1))  \n",
    "\n",
    "        q = self.wq((q, c_q))  # (batch_size * seq_len_q, d_model)\n",
    "        k = self.wk((k, c_k))  # (batch_size * seq_len_k, d_model)\n",
    "        v = self.wv((v, c_v))  # (batch_size * seq_len_v, d_model)\n",
    "        \n",
    "        q = tf.reshape(q, (batch_size, seq_len_q, self.d_model))\n",
    "        k = tf.reshape(k, (batch_size, seq_len_k, self.d_model))\n",
    "        v = tf.reshape(v, (batch_size, seq_len_v, self.d_model))\n",
    "\n",
    "        q = self.split_heads(q, batch_size)  # (batch_size, num_heads, seq_len_q, depth)\n",
    "        k = self.split_heads(k, batch_size)  # (batch_size, num_heads, seq_len_k, depth)\n",
    "        v = self.split_heads(v, batch_size)  # (batch_size, num_heads, seq_len_v, depth)\n",
    "\n",
    "        # scaled_attention.shape == (batch_size, num_heads, seq_len_q, depth)\n",
    "        # attention_weights.shape == (batch_size, num_heads, seq_len_q, seq_len_k)\n",
    "        scaled_attention, attention_weights = scaled_dot_product_attention(\n",
    "            q, k, v, mask)\n",
    "\n",
    "        scaled_attention = tf.transpose(scaled_attention, perm=[0, 2, 1, 3])  # (batch_size, seq_len_q, num_heads, depth)\n",
    "        \n",
    "        concat_attention = tf.reshape(scaled_attention, (batch_size * seq_len_q, self.d_model))  # (batch_size, seq_len_q, d_model)\n",
    "        \n",
    "        output = self.dense((concat_attention, c_q))  # (batch_size, seq_len_q, d_model)\n",
    "        output = tf.reshape(output, (batch_size, seq_len_q, self.d_model))  # (batch_size, seq_len_q, d_model)\n",
    "        \n",
    "        return output, attention_weights"
   ]
  },
  {
   "cell_type": "markdown",
   "metadata": {
    "id": "0D8FJue5lDyZ"
   },
   "source": [
    "Create a `MultiHeadAttention` layer to try out. At each location in the sequence, `y`, the `MultiHeadAttention` runs all 8 attention heads across all other locations in the sequence, returning a new vector of the same length at each location."
   ]
  },
  {
   "cell_type": "code",
   "execution_count": 221,
   "metadata": {
    "id": "Hu94p-_-2_BX"
   },
   "outputs": [
    {
     "data": {
      "text/plain": [
       "(TensorShape([2, 60, 64]), TensorShape([2, 8, 60, 60]))"
      ]
     },
     "execution_count": 221,
     "metadata": {},
     "output_type": "execute_result"
    }
   ],
   "source": [
    "d_model = 64\n",
    "num_heads = 8\n",
    "\n",
    "temp_mha = CAMultiHeadAttention(d_model, num_heads)\n",
    "y = tf.random.uniform((2, 60, d_model))  # (batch_size, encoder_sequence, d_model)\n",
    "c = tf.random.uniform((2, 60, d_model))\n",
    "out, attn = temp_mha(v=y, k=y, q=y, c_q=c, c_k=c, c_v=c, mask=None)\n",
    "out.shape, attn.shape"
   ]
  },
  {
   "cell_type": "markdown",
   "metadata": {
    "id": "RdDqGayx67vv"
   },
   "source": [
    "## Point wise feed forward network"
   ]
  },
  {
   "cell_type": "markdown",
   "metadata": {
    "id": "gBqzJXGfHK3X"
   },
   "source": [
    "Point wise feed forward network consists of two fully-connected layers with a ReLU activation in between."
   ]
  },
  {
   "cell_type": "code",
   "execution_count": 222,
   "metadata": {
    "id": "ET7xLt0yCT6Z"
   },
   "outputs": [],
   "source": [
    "class CAPointWiseFeedForward(tf.keras.models.Model):\n",
    "    def __init__(self, d_model, dff, activation: str = 'relu'):\n",
    "        super(CAPointWiseFeedForward, self).__init__()\n",
    "        self.d_model = d_model\n",
    "        self.dff = dff\n",
    "        self.non_linear = CASVDDenseAdd(dff, int(dff/2), activation=activation)  # (batch_size * seq_len, dff)\n",
    "        self.linear = CASVDDenseAdd(d_model, int(d_model/2))  # (batch_size * seq_len, d_model)\n",
    "        \n",
    "    def call(self, inputs, context):\n",
    "        batch_size = inputs.shape[0]\n",
    "        seq_len = inputs.shape[1]\n",
    "        \n",
    "        inputs = tf.reshape(inputs, (batch_size * seq_len, -1))\n",
    "        context = tf.reshape(inputs, (batch_size * seq_len, -1))\n",
    "        \n",
    "        inputs = self.non_linear((inputs, context))\n",
    "        outputs = self.linear((inputs, context))\n",
    "        return tf.reshape(outputs, (batch_size, seq_len, self.d_model))"
   ]
  },
  {
   "cell_type": "code",
   "execution_count": 223,
   "metadata": {
    "id": "mytb1lPyOHLB"
   },
   "outputs": [
    {
     "data": {
      "text/plain": [
       "TensorShape([64, 50, 64])"
      ]
     },
     "execution_count": 223,
     "metadata": {},
     "output_type": "execute_result"
    }
   ],
   "source": [
    "sample_ffn = CAPointWiseFeedForward(64, 128)\n",
    "sample_ffn(tf.random.uniform((64, 50, 512)), tf.random.uniform((64, 50, 512))).shape"
   ]
  },
  {
   "cell_type": "markdown",
   "metadata": {
    "id": "7e7hKcxn6-zd"
   },
   "source": [
    "## Encoder and decoder"
   ]
  },
  {
   "cell_type": "markdown",
   "metadata": {
    "id": "MfYJG-Kvgwy2"
   },
   "source": [
    "The transformer model follows the same general pattern as a standard [sequence to sequence with attention model](nmt_with_attention.ipynb). \n",
    "\n",
    "* The input sentence is passed through `N` encoder layers that generates an output for each word/token in the sequence.\n",
    "* The decoder attends on the encoder's output and its own input (self-attention) to predict the next word. "
   ]
  },
  {
   "cell_type": "markdown",
   "metadata": {
    "id": "QFv-FNYUmvpn"
   },
   "source": [
    "### Encoder layer\n",
    "\n",
    "Each encoder layer consists of sublayers:\n",
    "\n",
    "1.   Multi-head attention (with padding mask) \n",
    "2.    Point wise feed forward networks. \n",
    "\n",
    "Each of these sublayers has a residual connection around it followed by a layer normalization. Residual connections help in avoiding the vanishing gradient problem in deep networks.\n",
    "\n",
    "The output of each sublayer is `LayerNorm(x + Sublayer(x))`. The normalization is done on the `d_model` (last) axis. There are N encoder layers in the transformer."
   ]
  },
  {
   "cell_type": "code",
   "execution_count": 234,
   "metadata": {
    "id": "ncyS-Ms3i2x_"
   },
   "outputs": [],
   "source": [
    "class EncoderLayer(tf.keras.models.Model):\n",
    "    def __init__(self, d_model, num_heads, dff, rate=0.1):\n",
    "        super(EncoderLayer, self).__init__()\n",
    "\n",
    "        self.mha = CAMultiHeadAttention(d_model, num_heads)\n",
    "        self.ffn = CAPointWiseFeedForward(d_model, dff)\n",
    "\n",
    "        self.layernorm1 = tf.keras.layers.LayerNormalization(epsilon=1e-6)\n",
    "        self.layernorm2 = tf.keras.layers.LayerNormalization(epsilon=1e-6)\n",
    "\n",
    "        self.dropout1 = tf.keras.layers.Dropout(rate)\n",
    "        self.dropout2 = tf.keras.layers.Dropout(rate)\n",
    "\n",
    "    def call(self, inputs, context, training, mask):\n",
    "        attn_output, _ = self.mha(inputs, inputs, inputs, context, context, context, mask)  # (batch_size, input_seq_len, d_model)\n",
    "        attn_output = self.dropout1(attn_output, training=training)\n",
    "        out1 = self.layernorm1(inputs + attn_output)  # (batch_size, input_seq_len, d_model)\n",
    "\n",
    "        ffn_output = self.ffn(out1, context)  # (batch_size, input_seq_len, d_model)\n",
    "        ffn_output = self.dropout2(ffn_output, training=training)\n",
    "        out2 = self.layernorm2(out1 + ffn_output)  # (batch_size, input_seq_len, d_model)\n",
    "\n",
    "        return out2"
   ]
  },
  {
   "cell_type": "code",
   "execution_count": 225,
   "metadata": {
    "id": "AzZRXdO0mI48"
   },
   "outputs": [
    {
     "data": {
      "text/plain": [
       "TensorShape([64, 43, 32])"
      ]
     },
     "execution_count": 225,
     "metadata": {},
     "output_type": "execute_result"
    }
   ],
   "source": [
    "sample_encoder_layer = EncoderLayer(32, 8, 64)\n",
    "\n",
    "sample_encoder_layer_output = sample_encoder_layer(\n",
    "    tf.random.uniform((64, 43, 32)), tf.random.uniform((64, 43, 32)), False, None)\n",
    "\n",
    "sample_encoder_layer_output.shape  # (batch_size, input_seq_len, d_model)"
   ]
  },
  {
   "cell_type": "markdown",
   "metadata": {
    "id": "6LO_48Owmx_o"
   },
   "source": [
    "### Decoder layer\n",
    "\n",
    "Each decoder layer consists of sublayers:\n",
    "\n",
    "1.   Masked multi-head attention (with look ahead mask and padding mask)\n",
    "2.   Multi-head attention (with padding mask). V (value) and K (key) receive the *encoder output* as inputs. Q (query) receives the *output from the masked multi-head attention sublayer.*\n",
    "3.   Point wise feed forward networks\n",
    "\n",
    "Each of these sublayers has a residual connection around it followed by a layer normalization. The output of each sublayer is `LayerNorm(x + Sublayer(x))`. The normalization is done on the `d_model` (last) axis.\n",
    "\n",
    "There are N decoder layers in the transformer.\n",
    "\n",
    "As Q receives the output from decoder's first attention block, and K receives the encoder output, the attention weights represent the importance given to the decoder's input based on the encoder's output. In other words, the decoder predicts the next word by looking at the encoder output and self-attending to its own output. See the demonstration above in the scaled dot product attention section."
   ]
  },
  {
   "cell_type": "code",
   "execution_count": 296,
   "metadata": {
    "id": "9SoX0-vd1hue"
   },
   "outputs": [],
   "source": [
    "class DecoderLayer(tf.keras.models.Model):\n",
    "    def __init__(self, d_model, num_heads, dff, rate=0.1):\n",
    "        super(DecoderLayer, self).__init__()\n",
    "\n",
    "        self.mha1 = CAMultiHeadAttention(d_model, num_heads)\n",
    "        self.mha2 = CAMultiHeadAttention(d_model, num_heads)\n",
    "\n",
    "        self.ffn = CAPointWiseFeedForward(d_model, dff)\n",
    "\n",
    "        self.layernorm1 = tf.keras.layers.LayerNormalization(epsilon=1e-6)\n",
    "        self.layernorm2 = tf.keras.layers.LayerNormalization(epsilon=1e-6)\n",
    "        self.layernorm3 = tf.keras.layers.LayerNormalization(epsilon=1e-6)\n",
    "\n",
    "        self.dropout1 = tf.keras.layers.Dropout(rate)\n",
    "        self.dropout2 = tf.keras.layers.Dropout(rate)\n",
    "        self.dropout3 = tf.keras.layers.Dropout(rate)\n",
    "    \n",
    "    \n",
    "    def call(self, inputs, input_context, encoder_output, encoder_context, training, look_ahead_mask, padding_mask):\n",
    "        # enc_output.shape == (batch_size, input_seq_len, d_model)\n",
    "\n",
    "        attn1, attn_weights_block1 = self.mha1(inputs, inputs, inputs, input_context, input_context, input_context, look_ahead_mask)  # (batch_size, target_seq_len, d_model)\n",
    "        attn1 = self.dropout1(attn1, training=training)\n",
    "        out1 = self.layernorm1(attn1 + inputs)\n",
    "\n",
    "        attn2, attn_weights_block2 = self.mha2(\n",
    "            encoder_output, encoder_output, out1, encoder_context, encoder_context, input_context, padding_mask)  # (batch_size, target_seq_len, d_model)\n",
    "        attn2 = self.dropout2(attn2, training=training)\n",
    "        out2 = self.layernorm2(attn2 + out1)  # (batch_size, target_seq_len, d_model)\n",
    "\n",
    "        ffn_output = self.ffn(out2, input_context)  # (batch_size, target_seq_len, d_model)\n",
    "        ffn_output = self.dropout3(ffn_output, training=training)\n",
    "        out3 = self.layernorm3(ffn_output + out2)  # (batch_size, target_seq_len, d_model)\n",
    "\n",
    "        return out3, attn_weights_block1, attn_weights_block2"
   ]
  },
  {
   "cell_type": "code",
   "execution_count": 297,
   "metadata": {
    "id": "Ne2Bqx8k71l0"
   },
   "outputs": [
    {
     "data": {
      "text/plain": [
       "TensorShape([64, 50, 32])"
      ]
     },
     "execution_count": 297,
     "metadata": {},
     "output_type": "execute_result"
    }
   ],
   "source": [
    "sample_decoder_layer = DecoderLayer(32, 8, 64)\n",
    "\n",
    "sample_decoder_layer_output, _, _ = sample_decoder_layer(\n",
    "    tf.random.uniform((64, 50, 32)), tf.random.uniform((64, 50, 32)), sample_encoder_layer_output, tf.random.uniform((64, 43, 32)),\n",
    "    False, None, None)\n",
    "\n",
    "sample_decoder_layer_output.shape  # (batch_size, target_seq_len, d_model)"
   ]
  },
  {
   "cell_type": "markdown",
   "metadata": {
    "id": "SE1H51Ajm0q1"
   },
   "source": [
    "### Encoder\n",
    "\n",
    "The `Encoder` consists of:\n",
    "1.   Input Embedding\n",
    "2.   Positional Encoding\n",
    "3.   N encoder layers\n",
    "\n",
    "The input is put through an embedding which is summed with the positional encoding. The output of this summation is the input to the encoder layers. The output of the encoder is the input to the decoder."
   ]
  },
  {
   "cell_type": "code",
   "execution_count": 298,
   "metadata": {
    "id": "jpEox7gJ8FCI"
   },
   "outputs": [],
   "source": [
    "class Encoder(tf.keras.models.Model):\n",
    "    def __init__(self, num_layers, d_model, num_heads, dff, input_vocab_size,\n",
    "               maximum_position_encoding, rate=0.1):\n",
    "        super(Encoder, self).__init__()\n",
    "\n",
    "        self.d_model = d_model\n",
    "        self.num_layers = num_layers\n",
    "\n",
    "        self.embedding = tf.keras.layers.Embedding(input_vocab_size, d_model)\n",
    "        self.pos_encoding = positional_encoding(maximum_position_encoding, \n",
    "                                                self.d_model)\n",
    "\n",
    "\n",
    "        self.enc_layers = [EncoderLayer(d_model, num_heads, dff, rate) \n",
    "                           for _ in range(num_layers)]\n",
    "\n",
    "        self.dropout = tf.keras.layers.Dropout(rate)\n",
    "        \n",
    "    def call(self, inputs, context, training, mask):\n",
    "\n",
    "        seq_len = tf.shape(inputs)[1]\n",
    "\n",
    "        # adding embedding and position encoding.\n",
    "        inputs = self.embedding(inputs)  # (batch_size, input_seq_len, d_model)\n",
    "        inputs *= tf.math.sqrt(tf.cast(self.d_model, tf.float32))\n",
    "        inputs += self.pos_encoding[:, :seq_len, :]\n",
    "\n",
    "        inputs = self.dropout(inputs, training=training)\n",
    "\n",
    "        for i in range(self.num_layers):\n",
    "            inputs = self.enc_layers[i](inputs, context, training, mask)\n",
    "\n",
    "        return inputs  # (batch_size, input_seq_len, d_model)"
   ]
  },
  {
   "cell_type": "code",
   "execution_count": 299,
   "metadata": {
    "id": "8QG9nueFQKXx"
   },
   "outputs": [
    {
     "name": "stdout",
     "output_type": "stream",
     "text": [
      "(64, 62, 32)\n"
     ]
    }
   ],
   "source": [
    "sample_encoder = Encoder(num_layers=2, d_model=32, num_heads=8, \n",
    "                         dff=64, input_vocab_size=8500,\n",
    "                         maximum_position_encoding=10000)\n",
    "\n",
    "temp_input = tf.random.uniform((64, 62), dtype=tf.int64, minval=0, maxval=200)\n",
    "temp_input_context = tf.random.uniform((64, 62, 32))\n",
    "\n",
    "sample_encoder_output = sample_encoder(temp_input, temp_input_context, training=False, mask=None)\n",
    "\n",
    "print (sample_encoder_output.shape)  # (batch_size, input_seq_len, d_model)"
   ]
  },
  {
   "cell_type": "markdown",
   "metadata": {
    "id": "p-uO6ls8m2O5"
   },
   "source": [
    "### Decoder"
   ]
  },
  {
   "cell_type": "markdown",
   "metadata": {
    "id": "ZtT7PKzrXkNr"
   },
   "source": [
    " The `Decoder` consists of:\n",
    "1.   Output Embedding\n",
    "2.   Positional Encoding\n",
    "3.   N decoder layers\n",
    "\n",
    "The target is put through an embedding which is summed with the positional encoding. The output of this summation is the input to the decoder layers. The output of the decoder is the input to the final linear layer."
   ]
  },
  {
   "cell_type": "code",
   "execution_count": 300,
   "metadata": {
    "id": "d5_d5-PLQXwY"
   },
   "outputs": [],
   "source": [
    "class Decoder(tf.keras.models.Model):\n",
    "    def __init__(self, num_layers, d_model, num_heads, dff, target_vocab_size,\n",
    "               maximum_position_encoding, rate=0.1):\n",
    "        super(Decoder, self).__init__()\n",
    "\n",
    "        self.d_model = d_model\n",
    "        self.num_layers = num_layers\n",
    "\n",
    "        self.embedding = tf.keras.layers.Embedding(target_vocab_size, d_model)\n",
    "        self.pos_encoding = positional_encoding(maximum_position_encoding, d_model)\n",
    "\n",
    "        self.dec_layers = [DecoderLayer(d_model, num_heads, dff, rate) \n",
    "                           for _ in range(num_layers)]\n",
    "        self.dropout = tf.keras.layers.Dropout(rate)\n",
    "    \n",
    "    def call(self, inputs, input_context, encoder_output, encoder_context, training, look_ahead_mask, padding_mask):\n",
    "\n",
    "        seq_len = tf.shape(inputs)[1]\n",
    "        attention_weights = {}\n",
    "\n",
    "        inputs = self.embedding(inputs)  # (batch_size, target_seq_len, d_model)\n",
    "        inputs *= tf.math.sqrt(tf.cast(self.d_model, tf.float32))\n",
    "        inputs += self.pos_encoding[:, :seq_len, :]\n",
    "\n",
    "        inputs = self.dropout(inputs, training=training)\n",
    "\n",
    "        for i in range(self.num_layers):\n",
    "            inputs, block1, block2 = self.dec_layers[i](inputs, input_context, \n",
    "                                                   encoder_output, encoder_context,\n",
    "                                                   training,\n",
    "                                                   look_ahead_mask, \n",
    "                                                   padding_mask\n",
    "                                                  )\n",
    "\n",
    "            attention_weights['decoder_layer{}_block1'.format(i+1)] = block1\n",
    "            attention_weights['decoder_layer{}_block2'.format(i+1)] = block2\n",
    "\n",
    "        # x.shape == (batch_size, target_seq_len, d_model)\n",
    "        return inputs, attention_weights"
   ]
  },
  {
   "cell_type": "code",
   "execution_count": 301,
   "metadata": {
    "id": "a1jXoAMRZyvu"
   },
   "outputs": [
    {
     "data": {
      "text/plain": [
       "(TensorShape([64, 26, 32]), TensorShape([64, 8, 26, 62]))"
      ]
     },
     "execution_count": 301,
     "metadata": {},
     "output_type": "execute_result"
    }
   ],
   "source": [
    "sample_decoder = Decoder(num_layers=2, d_model=32, num_heads=8, \n",
    "                         dff=64, target_vocab_size=8000,\n",
    "                         maximum_position_encoding=5000)\n",
    "\n",
    "temp_target = tf.random.uniform((64, 26), dtype=tf.int64, minval=0, maxval=200)\n",
    "temp_target_context = tf.random.uniform((64, 26, 32))\n",
    "\n",
    "output, attn = sample_decoder(temp_target,            \n",
    "                              temp_target_context,\n",
    "                              encoder_output=sample_encoder_output,\n",
    "                              encoder_context=temp_input_context,\n",
    "                              training=False,\n",
    "                              look_ahead_mask=None, \n",
    "                              padding_mask=None)\n",
    "\n",
    "output.shape, attn['decoder_layer2_block2'].shape"
   ]
  },
  {
   "cell_type": "markdown",
   "metadata": {
    "id": "y54xnJnuYgJ7"
   },
   "source": [
    "## Create the Transformer"
   ]
  },
  {
   "cell_type": "markdown",
   "metadata": {
    "id": "uERO1y54cOKq"
   },
   "source": [
    "Transformer consists of the encoder, decoder and a final linear layer. The output of the decoder is the input to the linear layer and its output is returned."
   ]
  },
  {
   "cell_type": "code",
   "execution_count": 302,
   "metadata": {
    "id": "PED3bIpOYkBu"
   },
   "outputs": [],
   "source": [
    "class Transformer(tf.keras.Model):\n",
    "    def __init__(self, num_layers, d_model, num_heads, dff, input_vocab_size, \n",
    "               target_vocab_size, pe_input, pe_target, rate=0.1):\n",
    "        super(Transformer, self).__init__()\n",
    "\n",
    "        self.encoder = Encoder(num_layers, d_model, num_heads, dff, \n",
    "                               input_vocab_size, pe_input, rate)\n",
    "\n",
    "        self.decoder = Decoder(num_layers, d_model, num_heads, dff, \n",
    "                               target_vocab_size, pe_target, rate)\n",
    "\n",
    "        self.final_layer = tf.keras.layers.Dense(target_vocab_size)\n",
    "    \n",
    "    def call(self, inp, inp_c, tar, tar_c, training, enc_padding_mask, look_ahead_mask, dec_padding_mask):\n",
    "\n",
    "        enc_output = self.encoder(inp, inp_c, training, enc_padding_mask)  # (batch_size, inp_seq_len, d_model)\n",
    "\n",
    "        # dec_output.shape == (batch_size, tar_seq_len, d_model)\n",
    "        dec_output, attention_weights = self.decoder(\n",
    "            tar, tar_c, enc_output, inp_c, training, look_ahead_mask, dec_padding_mask)\n",
    "\n",
    "        final_output = self.final_layer(dec_output)  # (batch_size, tar_seq_len, target_vocab_size)\n",
    "\n",
    "        return final_output, attention_weights"
   ]
  },
  {
   "cell_type": "code",
   "execution_count": 303,
   "metadata": {
    "id": "tJ4fbQcIkHW1"
   },
   "outputs": [
    {
     "data": {
      "text/plain": [
       "TensorShape([64, 36, 8000])"
      ]
     },
     "execution_count": 303,
     "metadata": {},
     "output_type": "execute_result"
    }
   ],
   "source": [
    "sample_transformer = Transformer(\n",
    "    num_layers=2, d_model=32, num_heads=8, dff=64, \n",
    "    input_vocab_size=8500, target_vocab_size=8000, \n",
    "    pe_input=10000, pe_target=6000)\n",
    "\n",
    "temp_input = tf.random.uniform((64, 38), dtype=tf.int64, minval=0, maxval=200)\n",
    "temp_input_context = tf.random.uniform((64, 38, 32))\n",
    "temp_target = tf.random.uniform((64, 36), dtype=tf.int64, minval=0, maxval=200)\n",
    "temp_target_context = tf.random.uniform((64, 36, 32))\n",
    "\n",
    "fn_out, _ = sample_transformer(temp_input, temp_input_context,\n",
    "                               temp_target, temp_target_context,\n",
    "                               training=True, \n",
    "                               enc_padding_mask=None, \n",
    "                               look_ahead_mask=None,\n",
    "                               dec_padding_mask=None)\n",
    "\n",
    "fn_out.shape  # (batch_size, tar_seq_len, target_vocab_size)"
   ]
  },
  {
   "cell_type": "code",
   "execution_count": 289,
   "metadata": {},
   "outputs": [],
   "source": [
    "def create_masks(inp, tar):\n",
    "    # Encoder padding mask\n",
    "    enc_padding_mask = create_padding_mask(inp)\n",
    "\n",
    "    # Used in the 2nd attention block in the decoder.\n",
    "    # This padding mask is used to mask the encoder outputs.\n",
    "    dec_padding_mask = create_padding_mask(inp)\n",
    "\n",
    "    # Used in the 1st attention block in the decoder.\n",
    "    # It is used to pad and mask future tokens in the input received by \n",
    "    # the decoder.\n",
    "    look_ahead_mask = create_look_ahead_mask(tf.shape(tar)[1])\n",
    "    dec_target_padding_mask = create_padding_mask(tar)\n",
    "    combined_mask = tf.maximum(dec_target_padding_mask, look_ahead_mask)\n",
    "\n",
    "    return enc_padding_mask, combined_mask, dec_padding_mask"
   ]
  },
  {
   "cell_type": "code",
   "execution_count": 405,
   "metadata": {
    "id": "iJwmp9OE29oj"
   },
   "outputs": [],
   "source": [
    "# The @tf.function trace-compiles train_step into a TF graph for faster\n",
    "# execution. The function specializes to the precise shape of the argument\n",
    "# tensors. To avoid re-tracing due to the variable sequence lengths or variable\n",
    "# batch sizes (the last batch is smaller), use input_signature to specify\n",
    "# more generic shapes.\n",
    "\n",
    "# train_step_signature = [\n",
    "#     tf.TensorSpec(shape=(None, None), dtype=tf.int64),\n",
    "#     tf.TensorSpec(shape=(None, None, None), dtype=tf.float32),\n",
    "#     tf.TensorSpec(shape=(None, None), dtype=tf.int64),\n",
    "#     tf.TensorSpec(shape=(None, None, None), dtype=tf.float32),\n",
    "# ]\n",
    "\n",
    "def unpack(packed):\n",
    "    unpacked = []\n",
    "    for element in packed:\n",
    "        if hasattr(element, 'layers'):\n",
    "            for element in unpack(element.layers):\n",
    "                unpacked.append(element)\n",
    "        else:\n",
    "            unpacked.append(element)   \n",
    "    return unpacked\n",
    "\n",
    "def train_step(inp, inp_c, tar, tar_c):\n",
    "    tar_inp = tar[:, :-1]\n",
    "    tar_c_inp = tar_c[:, :-1, :]\n",
    "    tar_real = tar[:, 1:]\n",
    "\n",
    "    enc_padding_mask, combined_mask, dec_padding_mask = create_masks(inp, tar_inp)\n",
    "\n",
    "    with tf.GradientTape() as tape:\n",
    "        predictions, _ = sample_transformer(inp, inp_c, \n",
    "                                     tar_inp, tar_c_inp,\n",
    "                                     True, \n",
    "                                     enc_padding_mask, \n",
    "                                     combined_mask, \n",
    "                                     dec_padding_mask)\n",
    "        loss = loss_function(tar_real, predictions)\n",
    "\n",
    "        gradients = tape.gradient(loss, sample_transformer.trainable_variables)    \n",
    "        # Make gradients and variables zip\n",
    "        grads_and_vars = zip(sample_transformer.trainable_variables, gradients)\n",
    "        # Get svd layers\n",
    "        svd_layers = [layer for layer in unpack([sample_transformer]) if 'svd' in layer.name]\n",
    "        # Optimize svd layers\n",
    "        for layer in svd_layers:\n",
    "            # Get layer components (U, S, V, W)\n",
    "            layer_variables = layer.trainable_variables[:-1]\n",
    "            # Get gradients and variables for components\n",
    "            (u, s, v, w) , (du, ds, dv, dw) = zip(*[(v, g) for v, g in grads_and_vars if v.name in [var.name for var in layer_variables]])\n",
    "            # Update gradients and variables zip to not contain these layer's components\n",
    "            grads_and_vars = [(v, g) for v, g in grads_and_vars if v.name not in [var.name for var in layer_variables]]\n",
    "            # Calculate orthogonal update\n",
    "            chi_u = chi(u, du, nu)\n",
    "            chi_v = chi(v, dv, nu)\n",
    "            u_update = u + chi_u @ u\n",
    "            v_update = v + chi_v @ v\n",
    "            # Context updated coefficients\n",
    "            c = tf.reshape(inp_c, (-1, w.shape[0]))\n",
    "            s_ = s + c@w\n",
    "            # calculate assembled gradient\n",
    "            dk = batch_assembled_gradient(u, s_, v, du, ds, dv)\n",
    "            # Calculate singular value updates\n",
    "            psi_u = tf.transpose(u)@chi_u@u\n",
    "            psi_v = tf.transpose(v)@chi_v@v\n",
    "            s_matrix = tf.linalg.diag(s_)\n",
    "            s_update_matrix = psi_u@s_matrix + (s_matrix + psi_u@s_matrix)@tf.transpose(psi_v)  - learning_rate * (\n",
    "                tf.transpose(u_update)@dk@v_update + tf.linalg.diag(c@dw)\n",
    "            )\n",
    "            # Update orthogonal matrices\n",
    "            u.assign_add(chi_u @ u)\n",
    "            v.assign_add(chi_v @ v)\n",
    "            # Update singular values\n",
    "            s.assign_add(tf.reduce_mean(tf.linalg.diag_part(s_update_matrix), axis=0))\n",
    "            # regular updates\n",
    "            w.assign_add(-learning_rate * dw)            \n",
    "        # Optimize other variables\n",
    "        for variable, gradient in grads_and_vars:\n",
    "            variable.assign_add(-learning_rate * gradient)\n",
    "\n",
    "    train_loss(loss)\n",
    "    # train_accuracy(accuracy_function(tar_real, predictions))"
   ]
  },
  {
   "cell_type": "code",
   "execution_count": 406,
   "metadata": {},
   "outputs": [],
   "source": [
    "def loss_function(real, pred):\n",
    "    mask = tf.math.logical_not(tf.math.equal(real, 0))\n",
    "    loss_ = loss_object(real, pred)\n",
    "\n",
    "    mask = tf.cast(mask, dtype=loss_.dtype)\n",
    "    loss_ *= mask\n",
    "\n",
    "    return tf.reduce_sum(loss_)/tf.reduce_sum(mask)\n",
    "\n",
    "\n",
    "def accuracy_function(real, pred):\n",
    "    accuracies = tf.equal(real, tf.argmax(pred, axis=2))\n",
    "\n",
    "    mask = tf.math.logical_not(tf.math.equal(real, 0))\n",
    "    accuracies = tf.math.logical_and(mask, accuracies)\n",
    "\n",
    "    accuracies = tf.cast(accuracies, dtype=tf.float32)\n",
    "    mask = tf.cast(mask, dtype=tf.float32)\n",
    "    return tf.reduce_sum(accuracies)/tf.reduce_sum(mask)"
   ]
  },
  {
   "cell_type": "code",
   "execution_count": 442,
   "metadata": {
    "id": "bbvmaKNiznHZ"
   },
   "outputs": [
    {
     "name": "stdout",
     "output_type": "stream",
     "text": [
      "Epoch 1 Batch 31 Loss 8.1558 Accuracy 0.0000\n"
     ]
    }
   ],
   "source": [
    "train_dataset = tf.data.Dataset.from_tensor_slices((temp_input, temp_input_context, temp_target, temp_target_context)).batch(2)\n",
    "\n",
    "EPOCHS = 1\n",
    "nu = 10e-4\n",
    "learning_rate = 10e-4\n",
    "\n",
    "optimizer = tf.keras.optimizers.SGD()\n",
    "\n",
    "loss_object = tf.keras.losses.sparse_categorical_crossentropy\n",
    "\n",
    "train_loss = tf.keras.metrics.Mean(name='train_loss')\n",
    "train_accuracy = tf.keras.metrics.Mean(name='train_accuracy')\n",
    "\n",
    "\n",
    "# Get svd layers\n",
    "svd_layers = [layer for layer in unpack([sample_transformer]) if 'svd' in layer.name]\n",
    "\n",
    "for epoch in range(EPOCHS):\n",
    "    start = time.time()\n",
    "\n",
    "    train_loss\n",
    "    train_accuracy.reset_states()\n",
    "\n",
    "    # inp -> portuguese, tar -> english\n",
    "    for batch, (inp, inp_c, tar, tar_c) in enumerate(train_dataset):\n",
    "        tar_inp = tar[:, :-1]\n",
    "        tar_c_inp = tar_c[:, :-1, :]\n",
    "        tar_real = tar[:, 1:]\n",
    "\n",
    "        enc_padding_mask, combined_mask, dec_padding_mask = create_masks(inp, tar_inp)\n",
    "\n",
    "        with tf.GradientTape() as tape:\n",
    "            predictions, _ = sample_transformer(inp, inp_c, \n",
    "                                         tar_inp, tar_c_inp,\n",
    "                                         True, \n",
    "                                         enc_padding_mask, \n",
    "                                         combined_mask, \n",
    "                                         dec_padding_mask)\n",
    "            loss = loss_function(tar_real, predictions)\n",
    "\n",
    "            gradients = tape.gradient(loss, sample_transformer.trainable_variables)    \n",
    "        # Make gradients and variables zip\n",
    "        grads_and_vars = zip(gradients, sample_transformer.trainable_variables)\n",
    "        svd_indices = []\n",
    "        # Optimize svd layers\n",
    "        for layer in svd_layers:\n",
    "            # Get layer components (U, S, V, W)\n",
    "            layer_variables = layer.trainable_variables[:-1]\n",
    "            # variable indices\n",
    "            variable_indices = [idx for idx, v in enumerate(sample_transformer.trainable_variables) \n",
    "                                if v.name in [var.name for var in layer_variables]]\n",
    "            # Get gradients and variables for components\n",
    "            u, s, v, w = layer_variables\n",
    "            du, ds, dv, dw = np.array(gradients)[variable_indices]\n",
    "            svd_indices = np.concatenate([svd_indices, variable_indices])\n",
    "            # Calculate orthogonal update\n",
    "            chi_u = chi(u, du, nu)\n",
    "            chi_v = chi(v, dv, nu)\n",
    "            u_update = u + chi_u @ u\n",
    "            v_update = v + chi_v @ v\n",
    "            # Context updated coefficients depending on encoder or decoder\n",
    "            c = inp_c if 'encoder' in layer.name else tar_c_inp\n",
    "            c = tf.reshape(c, (-1, w.shape[0]))\n",
    "            s_ = s + c@w\n",
    "            # calculate assembled gradient\n",
    "            dk = batch_assembled_gradient(u, s_, v, du, ds, dv)\n",
    "            # Calculate singular value updates\n",
    "            psi_u = tf.transpose(u)@chi_u@u\n",
    "            psi_v = tf.transpose(v)@chi_v@v\n",
    "            s_matrix = tf.linalg.diag(s_)\n",
    "            s_update_matrix = psi_u@s_matrix + (s_matrix + psi_u@s_matrix)@tf.transpose(psi_v)  - learning_rate * (\n",
    "                tf.transpose(u_update)@dk@v_update + tf.linalg.diag(c@dw)\n",
    "            )\n",
    "            # Update orthogonal matrices\n",
    "            u.assign_add(chi_u @ u)\n",
    "            v.assign_add(chi_v @ v)\n",
    "            # Update singular values\n",
    "            s.assign_add(tf.reduce_mean(tf.linalg.diag_part(s_update_matrix), axis=0))\n",
    "            # regular updates\n",
    "            w.assign_add(-learning_rate * dw)            \n",
    "        # Optimize other variables\n",
    "        optimizer.apply_gradients([(g, v) for idx, (g,v) in enumerate(grads_and_vars) if idx not in svd_indices])\n",
    "            \n",
    "        train_loss(loss)\n",
    "        # train_accuracy(accuracy_function(tar_real, predictions))\n",
    "    \n",
    "    print ('Epoch {} Batch {} Loss {:.4f} Accuracy {:.4f}'.format(\n",
    "        epoch + 1, batch, train_loss.result(), train_accuracy.result()))"
   ]
  },
  {
   "cell_type": "code",
   "execution_count": null,
   "metadata": {},
   "outputs": [],
   "source": []
  }
 ],
 "metadata": {
  "accelerator": "GPU",
  "colab": {
   "collapsed_sections": [
    "s_qNSzzyaCbD"
   ],
   "name": "transformer.ipynb",
   "toc_visible": true
  },
  "kernelspec": {
   "display_name": "Python 3",
   "language": "python",
   "name": "python3"
  },
  "language_info": {
   "codemirror_mode": {
    "name": "ipython",
    "version": 3
   },
   "file_extension": ".py",
   "mimetype": "text/x-python",
   "name": "python",
   "nbconvert_exporter": "python",
   "pygments_lexer": "ipython3",
   "version": "3.7.6"
  },
  "pycharm": {
   "stem_cell": {
    "cell_type": "raw",
    "source": [],
    "metadata": {
     "collapsed": false
    }
   }
  }
 },
 "nbformat": 4,
 "nbformat_minor": 4
}